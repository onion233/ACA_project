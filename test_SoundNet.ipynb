{
 "cells": [
  {
   "cell_type": "code",
   "execution_count": 1,
   "metadata": {},
   "outputs": [
    {
     "name": "stderr",
     "output_type": "stream",
     "text": [
      "Using TensorFlow backend.\n"
     ]
    }
   ],
   "source": [
    "import os\n",
    "import sys\n",
    "import librosa\n",
    "import easydict\n",
    "import numpy as np\n",
    "\n",
    "from model import build_model"
   ]
  },
  {
   "cell_type": "code",
   "execution_count": 2,
   "metadata": {},
   "outputs": [],
   "source": [
    "def load_audio(f, sample_rate=22050):\n",
    "  [audio,sr] = librosa.load(f, dtype='float32', sr=sample_rate, mono=True)\n",
    "  audio *= 256.0\n",
    "  audio = np.reshape(audio, (1,-1,1))\n",
    "\n",
    "  return audio\n",
    "\n",
    "def load(fname):\n",
    "    ''' Load the file using std open'''\n",
    "    f = open(fname,'r')\n",
    "\n",
    "    data = []\n",
    "    for line in f.readlines():\n",
    "        data.append(line.replace('\\n','').split(' '))\n",
    "\n",
    "    f.close()\n",
    "\n",
    "    return data"
   ]
  },
  {
   "cell_type": "code",
   "execution_count": 3,
   "metadata": {},
   "outputs": [],
   "source": [
    "SoundNet = build_model()\n",
    "model_weights = np.load('test/sound8.npy', encoding='latin1').item()"
   ]
  },
  {
   "cell_type": "code",
   "execution_count": 4,
   "metadata": {
    "scrolled": true
   },
   "outputs": [
    {
     "name": "stdout",
     "output_type": "stream",
     "text": [
      "__________________________________________________________________________________________________\n",
      "Layer (type)                    Output Shape         Param #     Connected to                     \n",
      "==================================================================================================\n",
      "input_1 (InputLayer)            (None, None, 1)      0                                            \n",
      "__________________________________________________________________________________________________\n",
      "zero_padding1d_1 (ZeroPadding1D (None, None, 1)      0           input_1[0][0]                    \n",
      "__________________________________________________________________________________________________\n",
      "conv1d_1 (Conv1D)               (None, None, 16)     1040        zero_padding1d_1[0][0]           \n",
      "__________________________________________________________________________________________________\n",
      "batch_normalization_1 (BatchNor (None, None, 16)     64          conv1d_1[0][0]                   \n",
      "__________________________________________________________________________________________________\n",
      "activation_1 (Activation)       (None, None, 16)     0           batch_normalization_1[0][0]      \n",
      "__________________________________________________________________________________________________\n",
      "max_pooling1d_1 (MaxPooling1D)  (None, None, 16)     0           activation_1[0][0]               \n",
      "__________________________________________________________________________________________________\n",
      "zero_padding1d_2 (ZeroPadding1D (None, None, 16)     0           max_pooling1d_1[0][0]            \n",
      "__________________________________________________________________________________________________\n",
      "conv1d_2 (Conv1D)               (None, None, 32)     16416       zero_padding1d_2[0][0]           \n",
      "__________________________________________________________________________________________________\n",
      "batch_normalization_2 (BatchNor (None, None, 32)     128         conv1d_2[0][0]                   \n",
      "__________________________________________________________________________________________________\n",
      "activation_2 (Activation)       (None, None, 32)     0           batch_normalization_2[0][0]      \n",
      "__________________________________________________________________________________________________\n",
      "max_pooling1d_2 (MaxPooling1D)  (None, None, 32)     0           activation_2[0][0]               \n",
      "__________________________________________________________________________________________________\n",
      "zero_padding1d_3 (ZeroPadding1D (None, None, 32)     0           max_pooling1d_2[0][0]            \n",
      "__________________________________________________________________________________________________\n",
      "conv1d_3 (Conv1D)               (None, None, 64)     32832       zero_padding1d_3[0][0]           \n",
      "__________________________________________________________________________________________________\n",
      "batch_normalization_3 (BatchNor (None, None, 64)     256         conv1d_3[0][0]                   \n",
      "__________________________________________________________________________________________________\n",
      "activation_3 (Activation)       (None, None, 64)     0           batch_normalization_3[0][0]      \n",
      "__________________________________________________________________________________________________\n",
      "zero_padding1d_4 (ZeroPadding1D (None, None, 64)     0           activation_3[0][0]               \n",
      "__________________________________________________________________________________________________\n",
      "conv1d_4 (Conv1D)               (None, None, 128)    65664       zero_padding1d_4[0][0]           \n",
      "__________________________________________________________________________________________________\n",
      "batch_normalization_4 (BatchNor (None, None, 128)    512         conv1d_4[0][0]                   \n",
      "__________________________________________________________________________________________________\n",
      "activation_4 (Activation)       (None, None, 128)    0           batch_normalization_4[0][0]      \n",
      "__________________________________________________________________________________________________\n",
      "zero_padding1d_5 (ZeroPadding1D (None, None, 128)    0           activation_4[0][0]               \n",
      "__________________________________________________________________________________________________\n",
      "conv1d_5 (Conv1D)               (None, None, 256)    131328      zero_padding1d_5[0][0]           \n",
      "__________________________________________________________________________________________________\n",
      "batch_normalization_5 (BatchNor (None, None, 256)    1024        conv1d_5[0][0]                   \n",
      "__________________________________________________________________________________________________\n",
      "activation_5 (Activation)       (None, None, 256)    0           batch_normalization_5[0][0]      \n",
      "__________________________________________________________________________________________________\n",
      "max_pooling1d_3 (MaxPooling1D)  (None, None, 256)    0           activation_5[0][0]               \n",
      "__________________________________________________________________________________________________\n",
      "zero_padding1d_6 (ZeroPadding1D (None, None, 256)    0           max_pooling1d_3[0][0]            \n",
      "__________________________________________________________________________________________________\n",
      "conv1d_6 (Conv1D)               (None, None, 512)    524800      zero_padding1d_6[0][0]           \n",
      "__________________________________________________________________________________________________\n",
      "batch_normalization_6 (BatchNor (None, None, 512)    2048        conv1d_6[0][0]                   \n",
      "__________________________________________________________________________________________________\n",
      "activation_6 (Activation)       (None, None, 512)    0           batch_normalization_6[0][0]      \n",
      "__________________________________________________________________________________________________\n",
      "zero_padding1d_7 (ZeroPadding1D (None, None, 512)    0           activation_6[0][0]               \n",
      "__________________________________________________________________________________________________\n",
      "conv1d_7 (Conv1D)               (None, None, 1024)   2098176     zero_padding1d_7[0][0]           \n",
      "__________________________________________________________________________________________________\n",
      "batch_normalization_7 (BatchNor (None, None, 1024)   4096        conv1d_7[0][0]                   \n",
      "__________________________________________________________________________________________________\n",
      "activation_7 (Activation)       (None, None, 1024)   0           batch_normalization_7[0][0]      \n",
      "__________________________________________________________________________________________________\n",
      "zero_padding1d_9 (ZeroPadding1D (None, None, 1024)   0           activation_7[0][0]               \n",
      "__________________________________________________________________________________________________\n",
      "zero_padding1d_8 (ZeroPadding1D (None, None, 1024)   0           activation_7[0][0]               \n",
      "__________________________________________________________________________________________________\n",
      "conv1d_9 (Conv1D)               (None, None, 401)    3285393     zero_padding1d_9[0][0]           \n",
      "__________________________________________________________________________________________________\n",
      "conv1d_8 (Conv1D)               (None, None, 1000)   8193000     zero_padding1d_8[0][0]           \n",
      "==================================================================================================\n",
      "Total params: 14,356,777\n",
      "Trainable params: 14,352,713\n",
      "Non-trainable params: 4,064\n",
      "__________________________________________________________________________________________________\n"
     ]
    }
   ],
   "source": [
    "SoundNet.summary()"
   ]
  },
  {
   "cell_type": "code",
   "execution_count": null,
   "metadata": {},
   "outputs": [],
   "source": [
    "index = 0\n",
    "for i in SoundNet.layers:\n",
    "    print(index, i)\n",
    "    index = index + 1"
   ]
  },
  {
   "cell_type": "code",
   "execution_count": null,
   "metadata": {},
   "outputs": [],
   "source": [
    "model_weights.keys()"
   ]
  },
  {
   "cell_type": "code",
   "execution_count": null,
   "metadata": {},
   "outputs": [],
   "source": [
    "SoundNet.layers[34]"
   ]
  },
  {
   "cell_type": "code",
   "execution_count": null,
   "metadata": {},
   "outputs": [],
   "source": [
    "model_weights['conv8_2'].keys()"
   ]
  },
  {
   "cell_type": "code",
   "execution_count": 5,
   "metadata": {},
   "outputs": [],
   "source": [
    "tmp = 'conv1'\n",
    "weights = model_weights[tmp]['weights'].reshape(SoundNet.layers[2].get_weights()[0].shape)\n",
    "biases = model_weights[tmp]['biases']\n",
    "gamma = model_weights[tmp]['gamma']\n",
    "beta = model_weights[tmp]['beta']\n",
    "mean = model_weights[tmp]['mean']\n",
    "var = model_weights[tmp]['var']\n",
    "SoundNet.layers[2].set_weights([ weights,biases ])\n",
    "SoundNet.layers[3].set_weights([ gamma, beta, mean,var ])"
   ]
  },
  {
   "cell_type": "code",
   "execution_count": 6,
   "metadata": {},
   "outputs": [],
   "source": [
    "tmp = 'conv2'\n",
    "weights = model_weights[tmp]['weights'].reshape(SoundNet.layers[7].get_weights()[0].shape)\n",
    "biases = model_weights[tmp]['biases']\n",
    "gamma = model_weights[tmp]['gamma']\n",
    "beta = model_weights[tmp]['beta']\n",
    "mean = model_weights[tmp]['mean']\n",
    "var = model_weights[tmp]['var']\n",
    "SoundNet.layers[7].set_weights([ weights,biases ])\n",
    "SoundNet.layers[8].set_weights([ gamma, beta, mean,var ])"
   ]
  },
  {
   "cell_type": "code",
   "execution_count": 7,
   "metadata": {},
   "outputs": [],
   "source": [
    "tmp = 'conv3'\n",
    "weights = model_weights[tmp]['weights'].reshape(SoundNet.layers[12].get_weights()[0].shape)\n",
    "biases = model_weights[tmp]['biases']\n",
    "gamma = model_weights[tmp]['gamma']\n",
    "beta = model_weights[tmp]['beta']\n",
    "mean = model_weights[tmp]['mean']\n",
    "var = model_weights[tmp]['var']\n",
    "SoundNet.layers[12].set_weights([ weights,biases ])\n",
    "SoundNet.layers[13].set_weights([ gamma, beta, mean,var ])"
   ]
  },
  {
   "cell_type": "code",
   "execution_count": 8,
   "metadata": {},
   "outputs": [],
   "source": [
    "tmp = 'conv4'\n",
    "weights = model_weights[tmp]['weights'].reshape(SoundNet.layers[16].get_weights()[0].shape)\n",
    "biases = model_weights[tmp]['biases']\n",
    "gamma = model_weights[tmp]['gamma']\n",
    "beta = model_weights[tmp]['beta']\n",
    "mean = model_weights[tmp]['mean']\n",
    "var = model_weights[tmp]['var']\n",
    "SoundNet.layers[16].set_weights([ weights,biases ])\n",
    "SoundNet.layers[17].set_weights([ gamma, beta, mean,var ])"
   ]
  },
  {
   "cell_type": "code",
   "execution_count": 9,
   "metadata": {},
   "outputs": [],
   "source": [
    "tmp = 'conv5'\n",
    "weights = model_weights[tmp]['weights'].reshape(SoundNet.layers[20].get_weights()[0].shape)\n",
    "biases = model_weights[tmp]['biases']\n",
    "gamma = model_weights[tmp]['gamma']\n",
    "beta = model_weights[tmp]['beta']\n",
    "mean = model_weights[tmp]['mean']\n",
    "var = model_weights[tmp]['var']\n",
    "SoundNet.layers[20].set_weights([ weights,biases ])\n",
    "SoundNet.layers[21].set_weights([ gamma, beta, mean,var ])"
   ]
  },
  {
   "cell_type": "code",
   "execution_count": 10,
   "metadata": {},
   "outputs": [],
   "source": [
    "tmp = 'conv6'\n",
    "weights = model_weights[tmp]['weights'].reshape(SoundNet.layers[25].get_weights()[0].shape)\n",
    "biases = model_weights[tmp]['biases']\n",
    "gamma = model_weights[tmp]['gamma']\n",
    "beta = model_weights[tmp]['beta']\n",
    "mean = model_weights[tmp]['mean']\n",
    "var = model_weights[tmp]['var']\n",
    "SoundNet.layers[25].set_weights([ weights,biases ])\n",
    "SoundNet.layers[26].set_weights([ gamma, beta, mean,var ])"
   ]
  },
  {
   "cell_type": "code",
   "execution_count": 11,
   "metadata": {},
   "outputs": [],
   "source": [
    "tmp = 'conv7'\n",
    "weights = model_weights[tmp]['weights'].reshape(SoundNet.layers[29].get_weights()[0].shape)\n",
    "biases = model_weights[tmp]['biases']\n",
    "gamma = model_weights[tmp]['gamma']\n",
    "beta = model_weights[tmp]['beta']\n",
    "mean = model_weights[tmp]['mean']\n",
    "var = model_weights[tmp]['var']\n",
    "SoundNet.layers[29].set_weights([ weights,biases ])\n",
    "SoundNet.layers[30].set_weights([ gamma, beta, mean,var ])"
   ]
  },
  {
   "cell_type": "code",
   "execution_count": 14,
   "metadata": {},
   "outputs": [],
   "source": [
    "tmp = 'conv8'\n",
    "weights = model_weights[tmp]['weights'].reshape(SoundNet.layers[35].get_weights()[0].shape)\n",
    "biases = model_weights[tmp]['biases']\n",
    "SoundNet.layers[35].set_weights([ weights,biases ])"
   ]
  },
  {
   "cell_type": "code",
   "execution_count": 15,
   "metadata": {},
   "outputs": [],
   "source": [
    "tmp = 'conv8_2'\n",
    "weights = model_weights[tmp]['weights'].reshape(SoundNet.layers[34].get_weights()[0].shape)\n",
    "biases = model_weights[tmp]['biases']\n",
    "SoundNet.layers[34].set_weights([ weights,biases ])"
   ]
  },
  {
   "cell_type": "code",
   "execution_count": 17,
   "metadata": {},
   "outputs": [],
   "source": [
    "audio = load_audio('test/0001.mp3')\n",
    "result = SoundNet.predict(audio)"
   ]
  },
  {
   "cell_type": "code",
   "execution_count": 18,
   "metadata": {},
   "outputs": [
    {
     "name": "stdout",
     "output_type": "stream",
     "text": [
      "(1, 4, 401)\n",
      "(1, 4, 1000)\n"
     ]
    }
   ],
   "source": [
    "print(result[0].shape)\n",
    "print(result[1].shape)"
   ]
  },
  {
   "cell_type": "code",
   "execution_count": 25,
   "metadata": {},
   "outputs": [
    {
     "data": {
      "text/plain": [
       "317"
      ]
     },
     "execution_count": 25,
     "metadata": {},
     "output_type": "execute_result"
    }
   ],
   "source": [
    "np.argmax(result[0][0,2,:])"
   ]
  },
  {
   "cell_type": "code",
   "execution_count": 20,
   "metadata": {},
   "outputs": [],
   "source": [
    "scenes = load('categories/categories_places2.txt')"
   ]
  },
  {
   "cell_type": "code",
   "execution_count": 23,
   "metadata": {},
   "outputs": [
    {
     "data": {
      "text/plain": [
       "['/r/runway']"
      ]
     },
     "execution_count": 23,
     "metadata": {},
     "output_type": "execute_result"
    }
   ],
   "source": [
    "scenes[317]"
   ]
  }
 ],
 "metadata": {
  "kernelspec": {
   "display_name": "Python 3",
   "language": "python",
   "name": "python3"
  },
  "language_info": {
   "codemirror_mode": {
    "name": "ipython",
    "version": 3
   },
   "file_extension": ".py",
   "mimetype": "text/x-python",
   "name": "python",
   "nbconvert_exporter": "python",
   "pygments_lexer": "ipython3",
   "version": "3.6.5"
  }
 },
 "nbformat": 4,
 "nbformat_minor": 2
}
