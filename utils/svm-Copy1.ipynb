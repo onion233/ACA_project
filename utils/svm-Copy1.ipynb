{
 "cells": [
  {
   "cell_type": "code",
   "execution_count": 1,
   "metadata": {},
   "outputs": [],
   "source": [
    "import sklearn,pandas,numpy"
   ]
  },
  {
   "cell_type": "code",
   "execution_count": 2,
   "metadata": {},
   "outputs": [],
   "source": [
    "features=pandas.read_csv('res_extract3.csv')\n"
   ]
  },
  {
   "cell_type": "code",
   "execution_count": 3,
   "metadata": {
    "scrolled": false
   },
   "outputs": [],
   "source": [
    "features.drop('Unnamed: 0',1,inplace=True)"
   ]
  },
  {
   "cell_type": "code",
   "execution_count": 4,
   "metadata": {},
   "outputs": [],
   "source": [
    "# features.loc[1,'feature']"
   ]
  },
  {
   "cell_type": "code",
   "execution_count": 5,
   "metadata": {},
   "outputs": [],
   "source": [
    "features.feature=features.feature.apply(eval).apply(numpy.array)"
   ]
  },
  {
   "cell_type": "code",
   "execution_count": 6,
   "metadata": {},
   "outputs": [
    {
     "data": {
      "text/plain": [
       "20736"
      ]
     },
     "execution_count": 6,
     "metadata": {},
     "output_type": "execute_result"
    }
   ],
   "source": [
    "len(features.loc[31,'feature'])"
   ]
  },
  {
   "cell_type": "code",
   "execution_count": 7,
   "metadata": {},
   "outputs": [
    {
     "name": "stdout",
     "output_type": "stream",
     "text": [
      "<class 'pandas.core.frame.DataFrame'>\n",
      "RangeIndex: 2000 entries, 0 to 1999\n",
      "Data columns (total 2 columns):\n",
      "feature    2000 non-null object\n",
      "name       2000 non-null object\n",
      "dtypes: object(2)\n",
      "memory usage: 31.3+ KB\n"
     ]
    }
   ],
   "source": [
    "features.info()"
   ]
  },
  {
   "cell_type": "code",
   "execution_count": 8,
   "metadata": {
    "scrolled": true
   },
   "outputs": [
    {
     "data": {
      "text/html": [
       "<div>\n",
       "<style scoped>\n",
       "    .dataframe tbody tr th:only-of-type {\n",
       "        vertical-align: middle;\n",
       "    }\n",
       "\n",
       "    .dataframe tbody tr th {\n",
       "        vertical-align: top;\n",
       "    }\n",
       "\n",
       "    .dataframe thead th {\n",
       "        text-align: right;\n",
       "    }\n",
       "</style>\n",
       "<table border=\"1\" class=\"dataframe\">\n",
       "  <thead>\n",
       "    <tr style=\"text-align: right;\">\n",
       "      <th></th>\n",
       "      <th>feature</th>\n",
       "      <th>name</th>\n",
       "    </tr>\n",
       "  </thead>\n",
       "  <tbody>\n",
       "    <tr>\n",
       "      <th>0</th>\n",
       "      <td>[0.0, 0.22854745, 0.847559, 1.0271825, 0.86409...</td>\n",
       "      <td>data/1-100032-A-0.wav</td>\n",
       "    </tr>\n",
       "    <tr>\n",
       "      <th>1</th>\n",
       "      <td>[0.0, 0.5200756, 0.0, 1.1513135, 0.3884556, 0....</td>\n",
       "      <td>data/1-100038-A-14.wav</td>\n",
       "    </tr>\n",
       "    <tr>\n",
       "      <th>2</th>\n",
       "      <td>[0.3766845, 0.0, 0.0, 0.0, 0.5022416, 0.473322...</td>\n",
       "      <td>data/1-100210-A-36.wav</td>\n",
       "    </tr>\n",
       "    <tr>\n",
       "      <th>3</th>\n",
       "      <td>[0.0, 0.0, 0.0, 0.33651263, 0.3398397, 0.64454...</td>\n",
       "      <td>data/1-100210-B-36.wav</td>\n",
       "    </tr>\n",
       "    <tr>\n",
       "      <th>4</th>\n",
       "      <td>[0.0, 0.0, 0.75868356, 0.85205483, 0.8903196, ...</td>\n",
       "      <td>data/1-101296-A-19.wav</td>\n",
       "    </tr>\n",
       "  </tbody>\n",
       "</table>\n",
       "</div>"
      ],
      "text/plain": [
       "                                             feature                    name\n",
       "0  [0.0, 0.22854745, 0.847559, 1.0271825, 0.86409...   data/1-100032-A-0.wav\n",
       "1  [0.0, 0.5200756, 0.0, 1.1513135, 0.3884556, 0....  data/1-100038-A-14.wav\n",
       "2  [0.3766845, 0.0, 0.0, 0.0, 0.5022416, 0.473322...  data/1-100210-A-36.wav\n",
       "3  [0.0, 0.0, 0.0, 0.33651263, 0.3398397, 0.64454...  data/1-100210-B-36.wav\n",
       "4  [0.0, 0.0, 0.75868356, 0.85205483, 0.8903196, ...  data/1-101296-A-19.wav"
      ]
     },
     "execution_count": 8,
     "metadata": {},
     "output_type": "execute_result"
    }
   ],
   "source": [
    "features.head()"
   ]
  },
  {
   "cell_type": "code",
   "execution_count": 9,
   "metadata": {},
   "outputs": [],
   "source": [
    "def creat_label(row):\n",
    "    name=row['name'][0:-4] # drop '.wav'\n",
    "    label=int(name.split('-')[-1]) #get label num\n",
    "    return label"
   ]
  },
  {
   "cell_type": "code",
   "execution_count": 10,
   "metadata": {},
   "outputs": [],
   "source": [
    "features['label'] = features.apply (lambda row: creat_label(row),axis=1)"
   ]
  },
  {
   "cell_type": "code",
   "execution_count": 11,
   "metadata": {},
   "outputs": [
    {
     "data": {
      "text/plain": [
       "12633"
      ]
     },
     "execution_count": 11,
     "metadata": {},
     "output_type": "execute_result"
    }
   ],
   "source": [
    "sum(features.loc[99,'feature']==0)"
   ]
  },
  {
   "cell_type": "markdown",
   "metadata": {},
   "source": [
    "# Split data set\n"
   ]
  },
  {
   "cell_type": "code",
   "execution_count": 12,
   "metadata": {},
   "outputs": [],
   "source": [
    "\n",
    "# folder1['train']=features.loc[features.name.str.match('Mac')]\n",
    "# features.loc[~features.name.str.match('data/1-')]\n"
   ]
  },
  {
   "cell_type": "code",
   "execution_count": 13,
   "metadata": {},
   "outputs": [],
   "source": [
    "def splitTrainTest(df,folderNum):\n",
    "    folder={}\n",
    "    folder['test']=df.loc[df.name.str.match('data/'+str(folderNum)+'-')]\n",
    "    folder['train']=df.loc[~df.name.str.match('data/'+str(folderNum)+'-')]\n",
    "    return folder"
   ]
  },
  {
   "cell_type": "code",
   "execution_count": 14,
   "metadata": {},
   "outputs": [],
   "source": [
    "folder1=splitTrainTest(features,1)\n",
    "folder2=splitTrainTest(features,2)\n",
    "folder3=splitTrainTest(features,3)\n",
    "folder4=splitTrainTest(features,4)\n",
    "folder5=splitTrainTest(features,5)"
   ]
  },
  {
   "cell_type": "code",
   "execution_count": 15,
   "metadata": {},
   "outputs": [],
   "source": [
    "assert(len(folder5['train'].label.value_counts())==50) #check all label exist in traing data\n",
    "assert(len(folder4['train'].label.value_counts())==50)\n",
    "assert(len(folder3['train'].label.value_counts())==50)\n",
    "assert(len(folder2['train'].label.value_counts())==50)\n",
    "assert(len(folder1['train'].label.value_counts())==50)"
   ]
  },
  {
   "cell_type": "code",
   "execution_count": 16,
   "metadata": {},
   "outputs": [],
   "source": [
    "from sklearn.svm import SVC"
   ]
  },
  {
   "cell_type": "markdown",
   "metadata": {},
   "source": [
    "```liblinear.train(train_data_ll, '-c ' .. C .. ' -s 1 -B 1 ')```\n",
    "\n",
    "-s 1 means L2-regularized L2-loss support vectorclassification (dual)\n",
    "\n",
    "-c C means penlaty for soft margin\n",
    "\n",
    "-B 1 means bias =1\n"
   ]
  },
  {
   "cell_type": "code",
   "execution_count": 19,
   "metadata": {},
   "outputs": [
    {
     "name": "stdout",
     "output_type": "stream",
     "text": [
      "(400, 20736)\n",
      "(400,)\n",
      "Train accuracy of folder1 is 1.000000\n",
      "Test accuracy of folder1 is 0.652500\n",
      "-------------------------------------------\n",
      "(400, 20736)\n",
      "(400,)\n",
      "Train accuracy of folder2 is 1.000000\n",
      "Test accuracy of folder2 is 0.590000\n",
      "-------------------------------------------\n",
      "(400, 20736)\n",
      "(400,)\n",
      "Train accuracy of folder3 is 1.000000\n",
      "Test accuracy of folder3 is 0.650000\n",
      "-------------------------------------------\n",
      "(400, 20736)\n",
      "(400,)\n",
      "Train accuracy of folder4 is 1.000000\n",
      "Test accuracy of folder4 is 0.647500\n",
      "-------------------------------------------\n",
      "(400, 20736)\n",
      "(400,)\n",
      "Train accuracy of folder5 is 1.000000\n",
      "Test accuracy of folder5 is 0.597500\n",
      "-------------------------------------------\n"
     ]
    }
   ],
   "source": [
    "data=[folder1,folder2,folder3,folder4,folder5]\n",
    "res=[] #store trained models\n",
    "score=[] #store accuracy\n",
    "ind=1\n",
    "for fold in data:\n",
    "    train=fold['train']\n",
    "    test=fold['test']\n",
    "    trainX=numpy.vstack(train.feature.values)\n",
    "    trainY=numpy.vstack( train.label.values ).ravel()\n",
    "    testX=numpy.vstack(test.feature.values)\n",
    "    testY=numpy.vstack( test.label.values ).ravel()\n",
    "    # trainX = trainX[0:1200]\n",
    "    # trainY = trainY[0:1200]\n",
    "    # print(trainX.shape)\n",
    "    # print(trainY.shape)\n",
    "    \n",
    "    print(testX.shape)\n",
    "    print(testY.shape)\n",
    "    model = SVC(C=0.03,kernel='linear')\n",
    "    model.fit(trainX,trainY)\n",
    "    test_score=model.score(testX,testY)\n",
    "    train_score=model.score(trainX,trainY)\n",
    "    res.append(model)\n",
    "    score.append(test_score)\n",
    "    print(\"Train accuracy of folder%d is %f\"%(ind,train_score))\n",
    "    print(\"Test accuracy of folder%d is %f\"%(ind,test_score))\n",
    "    ind=ind+1\n",
    "    print('-------------------------------------------')"
   ]
  },
  {
   "cell_type": "code",
   "execution_count": 18,
   "metadata": {},
   "outputs": [
    {
     "data": {
      "text/plain": [
       "0.6275000000000001"
      ]
     },
     "execution_count": 18,
     "metadata": {},
     "output_type": "execute_result"
    }
   ],
   "source": [
    "numpy.mean(score)"
   ]
  },
  {
   "cell_type": "code",
   "execution_count": null,
   "metadata": {},
   "outputs": [],
   "source": [
    "from sklearn.svm import LinearSVC\n",
    "data=[folder1,folder2,folder3,folder4,folder5]\n",
    "res2=[] #store trained models\n",
    "score2=[] #store accuracy\n",
    "ind=1\n",
    "for fold in data:\n",
    "    train=fold['train']\n",
    "    test=fold['test']\n",
    "    \n",
    "    trainX=numpy.vstack(train.feature.values)\n",
    "    trainY=numpy.vstack( train.label.values ).ravel()\n",
    "    \n",
    "    testX=numpy.vstack(test.feature.values)\n",
    "    testY=numpy.vstack( test.label.values ).ravel()\n",
    "    \n",
    "    model = LinearSVC(C=0.01,penalty='l2',dual=True)\n",
    "    model.fit(trainX,trainY)\n",
    "    test_score=model.score(testX,testY)\n",
    "    train_score=model.score(trainX,trainY)\n",
    "    res2.append(model)\n",
    "    score2.append(test_score)\n",
    "    print(\"Train accuracy of folder%d is %f\"%(ind,train_score))\n",
    "    print(\"Test accuracy of folder%d is %f\"%(ind,test_score))\n",
    "    ind=ind+1\n",
    "    print('-------------------------------------------')"
   ]
  },
  {
   "cell_type": "code",
   "execution_count": null,
   "metadata": {},
   "outputs": [],
   "source": [
    "numpy.mean(score2)"
   ]
  },
  {
   "cell_type": "code",
   "execution_count": null,
   "metadata": {},
   "outputs": [],
   "source": [
    "import sys\n",
    "\n",
    "sys.path.append(\"/home/hujh/jinlei/SoundNet/liblinear/python\")"
   ]
  },
  {
   "cell_type": "code",
   "execution_count": null,
   "metadata": {},
   "outputs": [],
   "source": []
  },
  {
   "cell_type": "code",
   "execution_count": null,
   "metadata": {},
   "outputs": [],
   "source": [
    "import liblinearutil "
   ]
  },
  {
   "cell_type": "code",
   "execution_count": null,
   "metadata": {},
   "outputs": [],
   "source": [
    "liblinearutil.train(trainY,trainX)"
   ]
  },
  {
   "cell_type": "code",
   "execution_count": null,
   "metadata": {},
   "outputs": [],
   "source": [
    "data=[folder1,folder2,folder3,folder4,folder5]\n",
    "res3=[] #store trained models\n",
    "score3=[] #store accuracy\n",
    "ind=1\n",
    "for fold in data:\n",
    "    train=fold['train']\n",
    "    test=fold['test']\n",
    "    \n",
    "    trainX=numpy.vstack(train.feature.values)\n",
    "    trainY=numpy.vstack( train.label.values ).ravel()\n",
    "    \n",
    "    testX=numpy.vstack(test.feature.values)\n",
    "    testY=numpy.vstack( test.label.values ).ravel()\n",
    "    \n",
    "    \n",
    "    prob_train  = liblinearutil.problem(trainY, trainX)\n",
    "    param = liblinearutil.parameter('-c 0.01 -s 1 -B 1')\n",
    "    model = liblinearutil.train(prob_train, param)\n",
    "\n",
    "    \n",
    "    p_label, p_acc, p_val = liblinearutil.predict(testY, testX, model)\n",
    "    ACC, MSE, SCC = liblinearutil.evaluations(testY, p_label)\n",
    "    \n",
    "\n",
    "    res3.append(model)\n",
    "    score3.append(ACC)\n",
    "#     print(\"Train accuracy of folder%d is %f\"%(ind,train_score))\n",
    "    print(\"Test accuracy of folder%d is %f\"%(ind,ACC))\n",
    "    ind=ind+1\n",
    "    print('-------------------------------------------')"
   ]
  },
  {
   "cell_type": "code",
   "execution_count": null,
   "metadata": {},
   "outputs": [],
   "source": [
    "numpy.mean(score3)"
   ]
  },
  {
   "cell_type": "code",
   "execution_count": null,
   "metadata": {},
   "outputs": [],
   "source": []
  }
 ],
 "metadata": {
  "kernelspec": {
   "display_name": "Python 3",
   "language": "python",
   "name": "python3"
  },
  "language_info": {
   "codemirror_mode": {
    "name": "ipython",
    "version": 3
   },
   "file_extension": ".py",
   "mimetype": "text/x-python",
   "name": "python",
   "nbconvert_exporter": "python",
   "pygments_lexer": "ipython3",
   "version": "3.6.5"
  }
 },
 "nbformat": 4,
 "nbformat_minor": 2
}
